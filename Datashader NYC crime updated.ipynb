{
 "cells": [
  {
   "cell_type": "code",
   "execution_count": 2,
   "metadata": {},
   "outputs": [
    {
     "ename": "KeyError",
     "evalue": "\"['Primary Type'] not in index\"",
     "output_type": "error",
     "traceback": [
      "\u001b[1;31m---------------------------------------------------------------------------\u001b[0m",
      "\u001b[1;31mKeyError\u001b[0m                                  Traceback (most recent call last)",
      "\u001b[1;32m~\\AppData\\Local\\Temp/ipykernel_2372/1199170300.py\u001b[0m in \u001b[0;36m<module>\u001b[1;34m\u001b[0m\n\u001b[0;32m      8\u001b[0m \u001b[1;31m# Read and filter your dataframe\u001b[0m\u001b[1;33m\u001b[0m\u001b[1;33m\u001b[0m\u001b[0m\n\u001b[0;32m      9\u001b[0m \u001b[0mdf\u001b[0m \u001b[1;33m=\u001b[0m \u001b[0mpd\u001b[0m\u001b[1;33m.\u001b[0m\u001b[0mread_csv\u001b[0m\u001b[1;33m(\u001b[0m\u001b[1;34m\"NYPD_Arrest_Data.csv\"\u001b[0m\u001b[1;33m)\u001b[0m\u001b[1;33m\u001b[0m\u001b[1;33m\u001b[0m\u001b[0m\n\u001b[1;32m---> 10\u001b[1;33m \u001b[0mdff\u001b[0m \u001b[1;33m=\u001b[0m \u001b[0mdf\u001b[0m\u001b[1;33m[\u001b[0m\u001b[1;33m[\u001b[0m\u001b[1;34m'Primary Type'\u001b[0m\u001b[1;33m,\u001b[0m \u001b[1;34m'Latitude'\u001b[0m\u001b[1;33m,\u001b[0m \u001b[1;34m'Longitude'\u001b[0m\u001b[1;33m]\u001b[0m\u001b[1;33m]\u001b[0m\u001b[1;33m\u001b[0m\u001b[1;33m\u001b[0m\u001b[0m\n\u001b[0m\u001b[0;32m     11\u001b[0m \u001b[0mprint\u001b[0m\u001b[1;33m(\u001b[0m\u001b[0mdff\u001b[0m\u001b[1;33m[\u001b[0m\u001b[1;34m'Primary Type'\u001b[0m\u001b[1;33m]\u001b[0m\u001b[1;33m.\u001b[0m\u001b[0munique\u001b[0m\u001b[1;33m(\u001b[0m\u001b[1;33m)\u001b[0m\u001b[1;33m)\u001b[0m\u001b[1;33m\u001b[0m\u001b[1;33m\u001b[0m\u001b[0m\n\u001b[0;32m     12\u001b[0m \u001b[0mdff\u001b[0m \u001b[1;33m=\u001b[0m \u001b[0mdff\u001b[0m\u001b[1;33m[\u001b[0m\u001b[0mdff\u001b[0m\u001b[1;33m[\u001b[0m\u001b[1;34m'Primary Type'\u001b[0m\u001b[1;33m]\u001b[0m\u001b[1;33m.\u001b[0m\u001b[0misin\u001b[0m\u001b[1;33m(\u001b[0m\u001b[1;33m[\u001b[0m\u001b[1;34m'PROSTITUTION'\u001b[0m\u001b[1;33m]\u001b[0m\u001b[1;33m)\u001b[0m\u001b[1;33m]\u001b[0m\u001b[1;33m\u001b[0m\u001b[1;33m\u001b[0m\u001b[0m\n",
      "\u001b[1;32mC:\\ProgramData\\Anaconda3\\envs\\DataShader\\lib\\site-packages\\pandas\\core\\frame.py\u001b[0m in \u001b[0;36m__getitem__\u001b[1;34m(self, key)\u001b[0m\n\u001b[0;32m   3462\u001b[0m             \u001b[1;32mif\u001b[0m \u001b[0mis_iterator\u001b[0m\u001b[1;33m(\u001b[0m\u001b[0mkey\u001b[0m\u001b[1;33m)\u001b[0m\u001b[1;33m:\u001b[0m\u001b[1;33m\u001b[0m\u001b[1;33m\u001b[0m\u001b[0m\n\u001b[0;32m   3463\u001b[0m                 \u001b[0mkey\u001b[0m \u001b[1;33m=\u001b[0m \u001b[0mlist\u001b[0m\u001b[1;33m(\u001b[0m\u001b[0mkey\u001b[0m\u001b[1;33m)\u001b[0m\u001b[1;33m\u001b[0m\u001b[1;33m\u001b[0m\u001b[0m\n\u001b[1;32m-> 3464\u001b[1;33m             \u001b[0mindexer\u001b[0m \u001b[1;33m=\u001b[0m \u001b[0mself\u001b[0m\u001b[1;33m.\u001b[0m\u001b[0mloc\u001b[0m\u001b[1;33m.\u001b[0m\u001b[0m_get_listlike_indexer\u001b[0m\u001b[1;33m(\u001b[0m\u001b[0mkey\u001b[0m\u001b[1;33m,\u001b[0m \u001b[0maxis\u001b[0m\u001b[1;33m=\u001b[0m\u001b[1;36m1\u001b[0m\u001b[1;33m)\u001b[0m\u001b[1;33m[\u001b[0m\u001b[1;36m1\u001b[0m\u001b[1;33m]\u001b[0m\u001b[1;33m\u001b[0m\u001b[1;33m\u001b[0m\u001b[0m\n\u001b[0m\u001b[0;32m   3465\u001b[0m \u001b[1;33m\u001b[0m\u001b[0m\n\u001b[0;32m   3466\u001b[0m         \u001b[1;31m# take() does not accept boolean indexers\u001b[0m\u001b[1;33m\u001b[0m\u001b[1;33m\u001b[0m\u001b[0m\n",
      "\u001b[1;32mC:\\ProgramData\\Anaconda3\\envs\\DataShader\\lib\\site-packages\\pandas\\core\\indexing.py\u001b[0m in \u001b[0;36m_get_listlike_indexer\u001b[1;34m(self, key, axis)\u001b[0m\n\u001b[0;32m   1312\u001b[0m             \u001b[0mkeyarr\u001b[0m\u001b[1;33m,\u001b[0m \u001b[0mindexer\u001b[0m\u001b[1;33m,\u001b[0m \u001b[0mnew_indexer\u001b[0m \u001b[1;33m=\u001b[0m \u001b[0max\u001b[0m\u001b[1;33m.\u001b[0m\u001b[0m_reindex_non_unique\u001b[0m\u001b[1;33m(\u001b[0m\u001b[0mkeyarr\u001b[0m\u001b[1;33m)\u001b[0m\u001b[1;33m\u001b[0m\u001b[1;33m\u001b[0m\u001b[0m\n\u001b[0;32m   1313\u001b[0m \u001b[1;33m\u001b[0m\u001b[0m\n\u001b[1;32m-> 1314\u001b[1;33m         \u001b[0mself\u001b[0m\u001b[1;33m.\u001b[0m\u001b[0m_validate_read_indexer\u001b[0m\u001b[1;33m(\u001b[0m\u001b[0mkeyarr\u001b[0m\u001b[1;33m,\u001b[0m \u001b[0mindexer\u001b[0m\u001b[1;33m,\u001b[0m \u001b[0maxis\u001b[0m\u001b[1;33m)\u001b[0m\u001b[1;33m\u001b[0m\u001b[1;33m\u001b[0m\u001b[0m\n\u001b[0m\u001b[0;32m   1315\u001b[0m \u001b[1;33m\u001b[0m\u001b[0m\n\u001b[0;32m   1316\u001b[0m         if needs_i8_conversion(ax.dtype) or isinstance(\n",
      "\u001b[1;32mC:\\ProgramData\\Anaconda3\\envs\\DataShader\\lib\\site-packages\\pandas\\core\\indexing.py\u001b[0m in \u001b[0;36m_validate_read_indexer\u001b[1;34m(self, key, indexer, axis)\u001b[0m\n\u001b[0;32m   1375\u001b[0m \u001b[1;33m\u001b[0m\u001b[0m\n\u001b[0;32m   1376\u001b[0m             \u001b[0mnot_found\u001b[0m \u001b[1;33m=\u001b[0m \u001b[0mlist\u001b[0m\u001b[1;33m(\u001b[0m\u001b[0mensure_index\u001b[0m\u001b[1;33m(\u001b[0m\u001b[0mkey\u001b[0m\u001b[1;33m)\u001b[0m\u001b[1;33m[\u001b[0m\u001b[0mmissing_mask\u001b[0m\u001b[1;33m.\u001b[0m\u001b[0mnonzero\u001b[0m\u001b[1;33m(\u001b[0m\u001b[1;33m)\u001b[0m\u001b[1;33m[\u001b[0m\u001b[1;36m0\u001b[0m\u001b[1;33m]\u001b[0m\u001b[1;33m]\u001b[0m\u001b[1;33m.\u001b[0m\u001b[0munique\u001b[0m\u001b[1;33m(\u001b[0m\u001b[1;33m)\u001b[0m\u001b[1;33m)\u001b[0m\u001b[1;33m\u001b[0m\u001b[1;33m\u001b[0m\u001b[0m\n\u001b[1;32m-> 1377\u001b[1;33m             \u001b[1;32mraise\u001b[0m \u001b[0mKeyError\u001b[0m\u001b[1;33m(\u001b[0m\u001b[1;34mf\"{not_found} not in index\"\u001b[0m\u001b[1;33m)\u001b[0m\u001b[1;33m\u001b[0m\u001b[1;33m\u001b[0m\u001b[0m\n\u001b[0m\u001b[0;32m   1378\u001b[0m \u001b[1;33m\u001b[0m\u001b[0m\n\u001b[0;32m   1379\u001b[0m \u001b[1;33m\u001b[0m\u001b[0m\n",
      "\u001b[1;31mKeyError\u001b[0m: \"['Primary Type'] not in index\""
     ]
    }
   ],
   "source": [
    "import pandas as pd\n",
    "import datashader as ds\n",
    "import datashader.transfer_functions as tf\n",
    "from colorcet import fire, kbc, bmw, gray\n",
    "import plotly.express as px\n",
    "\n",
    "\n",
    "# Read and filter your dataframe\n",
    "df = pd.read_csv(\"NYPD_Arrest_Data.csv\")\n",
    "dff = df[['Primary Type', 'Latitude', 'Longitude']]\n",
    "print(dff['Primary Type'].unique())\n",
    "dff = dff[dff['Primary Type'].isin(['PROSTITUTION'])]\n",
    "dff.dropna(subset=['Latitude', 'Longitude'], inplace=True)\n",
    "print(dff.shape)\n",
    "\n",
    "\n",
    "# Build an abstract canvas representing the space in which to plot data\n",
    "cvs = ds.Canvas(plot_width=1000, plot_height=1000)\n",
    "\n",
    "# project the longitude and latitude onto the canvas and\n",
    "# map the data to pixels as points\n",
    "aggs = cvs.points(dff, x='Longitude', y='Latitude')\n",
    "\n",
    "# aggs is an xarray object, see http://xarray.pydata.org/en/stable/ for more details\n",
    "coords_lat, coords_lon = aggs.coords['Latitude'].values, aggs.coords['Longitude'].values\n",
    "\n",
    "# Set the corners of the image that need to be passed to the mapbox\n",
    "coordinates = [[coords_lon[0], coords_lat[0]],\n",
    "               [coords_lon[-1], coords_lat[0]],\n",
    "               [coords_lon[-1], coords_lat[-1]],\n",
    "               [coords_lon[0], coords_lat[-1]]]\n",
    "\n",
    "\n",
    "# Set the image color, and the legend (how) types\n",
    "# linear (how=linear), logarithmic (how=log), percentile (how=eq_hist)\n",
    "img = tf.shade(aggs, cmap=fire, how='eq_hist', alpha=255)[::-1].to_pil()\n",
    "\n",
    "# Create a quick mapbox figure with plotly\n",
    "fig = px.scatter_mapbox(dff[:1], lat='Latitude', lon='Longitude', zoom=10)\n",
    "\n",
    "# Add the datashader image as a mapbox layer image\n",
    "fig.update_layout(mapbox_style=\"carto-darkmatter\",\n",
    "                  mapbox_layers=[\n",
    "                      {\n",
    "                    \"sourcetype\": \"image\",\n",
    "                    \"source\": img,\n",
    "                    \"coordinates\": coordinates\n",
    "                      }\n",
    "                  ]\n",
    ")\n",
    "fig.show()"
   ]
  },
  {
   "cell_type": "code",
   "execution_count": 3,
   "metadata": {},
   "outputs": [],
   "source": [
    "import pandas as pd\n",
    "import datashader as ds\n",
    "import datashader.transfer_functions as tf\n",
    "from colorcet import fire, kbc, bmw, gray\n",
    "import plotly.express as px\n"
   ]
  },
  {
   "cell_type": "code",
   "execution_count": 4,
   "metadata": {},
   "outputs": [],
   "source": [
    "url = 'NYPD_Arrest_Data.csv'\n",
    "nypdf = pd.read_csv(url)"
   ]
  },
  {
   "cell_type": "code",
   "execution_count": 5,
   "metadata": {},
   "outputs": [
    {
     "data": {
      "text/plain": [
       "ASSAULT 3 & RELATED OFFENSES       19937\n",
       "FELONY ASSAULT                     11472\n",
       "PETIT LARCENY                       9132\n",
       "DANGEROUS DRUGS                     8163\n",
       "MISCELLANEOUS PENAL LAW             7629\n",
       "                                   ...  \n",
       "FELONY SEX CRIMES                      2\n",
       "PARKING OFFENSES                       2\n",
       "ADMINISTRATIVE CODES                   2\n",
       "NEW YORK CITY HEALTH CODE              1\n",
       "KIDNAPPING AND RELATED OFFENSES        1\n",
       "Name: OFNS_DESC, Length: 63, dtype: int64"
      ]
     },
     "execution_count": 5,
     "metadata": {},
     "output_type": "execute_result"
    }
   ],
   "source": [
    "nypdf['OFNS_DESC'].value_counts()"
   ]
  },
  {
   "cell_type": "code",
   "execution_count": 8,
   "metadata": {},
   "outputs": [
    {
     "name": "stdout",
     "output_type": "stream",
     "text": [
      "['FELONY ASSAULT' 'RAPE' 'ASSAULT 3 & RELATED OFFENSES' nan 'ROBBERY'\n",
      " 'BURGLARY' 'SEX CRIMES' 'ARSON' 'OFFENSES AGAINST PUBLIC ADMINI'\n",
      " 'DANGEROUS DRUGS' 'MISCELLANEOUS PENAL LAW' 'FORGERY' 'PETIT LARCENY'\n",
      " 'POSSESSION OF STOLEN PROPERTY' 'VEHICLE AND TRAFFIC LAWS'\n",
      " 'INTOXICATED/IMPAIRED DRIVING' 'NYS LAWS-UNCLASSIFIED FELONY'\n",
      " 'CRIMINAL MISCHIEF & RELATED OF' 'DANGEROUS WEAPONS'\n",
      " 'OFFENSES INVOLVING FRAUD' 'GRAND LARCENY' 'OTHER TRAFFIC INFRACTION'\n",
      " 'OFF. AGNST PUB ORD SENSBLTY &' 'MURDER & NON-NEGL. MANSLAUGHTE'\n",
      " 'ALCOHOLIC BEVERAGE CONTROL LAW' 'GAMBLING' 'FOR OTHER AUTHORITIES'\n",
      " \"BURGLAR'S TOOLS\" 'UNAUTHORIZED USE OF A VEHICLE' 'CRIMINAL TRESPASS'\n",
      " 'OFFENSES AGAINST THE PERSON' 'THEFT OF SERVICES'\n",
      " 'GRAND LARCENY OF MOTOR VEHICLE' 'OTHER OFFENSES RELATED TO THEF'\n",
      " 'OTHER STATE LAWS (NON PENAL LA' 'INTOXICATED & IMPAIRED DRIVING'\n",
      " 'AGRICULTURE & MRKTS LAW-UNCLASSIFIED' 'FRAUDS' 'OTHER STATE LAWS'\n",
      " 'THEFT-FRAUD' 'ADMINISTRATIVE CODE' 'PROSTITUTION & RELATED OFFENSES'\n",
      " 'MOVING INFRACTIONS' 'KIDNAPPING & RELATED OFFENSES'\n",
      " 'FRAUDULENT ACCOSTING' 'CHILD ABANDONMENT/NON SUPPORT'\n",
      " 'OFFENSES AGAINST PUBLIC SAFETY' 'HARRASSMENT 2'\n",
      " 'HOMICIDE-NEGLIGENT,UNCLASSIFIE' 'ENDAN WELFARE INCOMP'\n",
      " 'ANTICIPATORY OFFENSES' 'DISORDERLY CONDUCT' 'HOMICIDE-NEGLIGENT-VEHICLE'\n",
      " 'FELONY SEX CRIMES' 'PARKING OFFENSES' 'ESCAPE 3' 'JOSTLING'\n",
      " 'ADMINISTRATIVE CODES' 'OTHER STATE LAWS (NON PENAL LAW)'\n",
      " 'NEW YORK CITY HEALTH CODE' 'KIDNAPPING AND RELATED OFFENSES'\n",
      " 'KIDNAPPING' 'LOITERING/GAMBLING (CARDS, DIC'\n",
      " 'OFFENSES RELATED TO CHILDREN']\n",
      "(19937, 3)\n"
     ]
    },
    {
     "data": {
      "application/vnd.plotly.v1+json": {
       "config": {
        "plotlyServerURL": "https://plot.ly"
       },
       "data": [
        {
         "hovertemplate": "Latitude=%{lat}<br>Longitude=%{lon}<extra></extra>",
         "lat": [
          40.83778161800007
         ],
         "legendgroup": "",
         "lon": [
          -73.91945797099999
         ],
         "marker": {
          "color": "#636efa"
         },
         "mode": "markers",
         "name": "",
         "showlegend": false,
         "subplot": "mapbox",
         "type": "scattermapbox"
        }
       ],
       "layout": {
        "legend": {
         "tracegroupgap": 0
        },
        "mapbox": {
         "center": {
          "lat": 40.83778161800007,
          "lon": -73.91945797099999
         },
         "domain": {
          "x": [
           0,
           1
          ],
          "y": [
           0,
           1
          ]
         },
         "layers": [
          {
           "coordinates": [
            [
             -74.25157101872696,
             40.49960594956805
            ],
            [
             -73.70631027927298,
             40.49960594956805
            ],
            [
             -73.70631027927298,
             40.90943085043204
            ],
            [
             -74.25157101872696,
             40.90943085043204
            ]
           ],
           "source": "data:image/png;base64,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",
           "sourcetype": "image"
          }
         ],
         "style": "carto-darkmatter",
         "zoom": 10
        },
        "margin": {
         "t": 60
        },
        "template": {
         "data": {
          "bar": [
           {
            "error_x": {
             "color": "#2a3f5f"
            },
            "error_y": {
             "color": "#2a3f5f"
            },
            "marker": {
             "line": {
              "color": "#E5ECF6",
              "width": 0.5
             },
             "pattern": {
              "fillmode": "overlay",
              "size": 10,
              "solidity": 0.2
             }
            },
            "type": "bar"
           }
          ],
          "barpolar": [
           {
            "marker": {
             "line": {
              "color": "#E5ECF6",
              "width": 0.5
             },
             "pattern": {
              "fillmode": "overlay",
              "size": 10,
              "solidity": 0.2
             }
            },
            "type": "barpolar"
           }
          ],
          "carpet": [
           {
            "aaxis": {
             "endlinecolor": "#2a3f5f",
             "gridcolor": "white",
             "linecolor": "white",
             "minorgridcolor": "white",
             "startlinecolor": "#2a3f5f"
            },
            "baxis": {
             "endlinecolor": "#2a3f5f",
             "gridcolor": "white",
             "linecolor": "white",
             "minorgridcolor": "white",
             "startlinecolor": "#2a3f5f"
            },
            "type": "carpet"
           }
          ],
          "choropleth": [
           {
            "colorbar": {
             "outlinewidth": 0,
             "ticks": ""
            },
            "type": "choropleth"
           }
          ],
          "contour": [
           {
            "colorbar": {
             "outlinewidth": 0,
             "ticks": ""
            },
            "colorscale": [
             [
              0,
              "#0d0887"
             ],
             [
              0.1111111111111111,
              "#46039f"
             ],
             [
              0.2222222222222222,
              "#7201a8"
             ],
             [
              0.3333333333333333,
              "#9c179e"
             ],
             [
              0.4444444444444444,
              "#bd3786"
             ],
             [
              0.5555555555555556,
              "#d8576b"
             ],
             [
              0.6666666666666666,
              "#ed7953"
             ],
             [
              0.7777777777777778,
              "#fb9f3a"
             ],
             [
              0.8888888888888888,
              "#fdca26"
             ],
             [
              1,
              "#f0f921"
             ]
            ],
            "type": "contour"
           }
          ],
          "contourcarpet": [
           {
            "colorbar": {
             "outlinewidth": 0,
             "ticks": ""
            },
            "type": "contourcarpet"
           }
          ],
          "heatmap": [
           {
            "colorbar": {
             "outlinewidth": 0,
             "ticks": ""
            },
            "colorscale": [
             [
              0,
              "#0d0887"
             ],
             [
              0.1111111111111111,
              "#46039f"
             ],
             [
              0.2222222222222222,
              "#7201a8"
             ],
             [
              0.3333333333333333,
              "#9c179e"
             ],
             [
              0.4444444444444444,
              "#bd3786"
             ],
             [
              0.5555555555555556,
              "#d8576b"
             ],
             [
              0.6666666666666666,
              "#ed7953"
             ],
             [
              0.7777777777777778,
              "#fb9f3a"
             ],
             [
              0.8888888888888888,
              "#fdca26"
             ],
             [
              1,
              "#f0f921"
             ]
            ],
            "type": "heatmap"
           }
          ],
          "heatmapgl": [
           {
            "colorbar": {
             "outlinewidth": 0,
             "ticks": ""
            },
            "colorscale": [
             [
              0,
              "#0d0887"
             ],
             [
              0.1111111111111111,
              "#46039f"
             ],
             [
              0.2222222222222222,
              "#7201a8"
             ],
             [
              0.3333333333333333,
              "#9c179e"
             ],
             [
              0.4444444444444444,
              "#bd3786"
             ],
             [
              0.5555555555555556,
              "#d8576b"
             ],
             [
              0.6666666666666666,
              "#ed7953"
             ],
             [
              0.7777777777777778,
              "#fb9f3a"
             ],
             [
              0.8888888888888888,
              "#fdca26"
             ],
             [
              1,
              "#f0f921"
             ]
            ],
            "type": "heatmapgl"
           }
          ],
          "histogram": [
           {
            "marker": {
             "pattern": {
              "fillmode": "overlay",
              "size": 10,
              "solidity": 0.2
             }
            },
            "type": "histogram"
           }
          ],
          "histogram2d": [
           {
            "colorbar": {
             "outlinewidth": 0,
             "ticks": ""
            },
            "colorscale": [
             [
              0,
              "#0d0887"
             ],
             [
              0.1111111111111111,
              "#46039f"
             ],
             [
              0.2222222222222222,
              "#7201a8"
             ],
             [
              0.3333333333333333,
              "#9c179e"
             ],
             [
              0.4444444444444444,
              "#bd3786"
             ],
             [
              0.5555555555555556,
              "#d8576b"
             ],
             [
              0.6666666666666666,
              "#ed7953"
             ],
             [
              0.7777777777777778,
              "#fb9f3a"
             ],
             [
              0.8888888888888888,
              "#fdca26"
             ],
             [
              1,
              "#f0f921"
             ]
            ],
            "type": "histogram2d"
           }
          ],
          "histogram2dcontour": [
           {
            "colorbar": {
             "outlinewidth": 0,
             "ticks": ""
            },
            "colorscale": [
             [
              0,
              "#0d0887"
             ],
             [
              0.1111111111111111,
              "#46039f"
             ],
             [
              0.2222222222222222,
              "#7201a8"
             ],
             [
              0.3333333333333333,
              "#9c179e"
             ],
             [
              0.4444444444444444,
              "#bd3786"
             ],
             [
              0.5555555555555556,
              "#d8576b"
             ],
             [
              0.6666666666666666,
              "#ed7953"
             ],
             [
              0.7777777777777778,
              "#fb9f3a"
             ],
             [
              0.8888888888888888,
              "#fdca26"
             ],
             [
              1,
              "#f0f921"
             ]
            ],
            "type": "histogram2dcontour"
           }
          ],
          "mesh3d": [
           {
            "colorbar": {
             "outlinewidth": 0,
             "ticks": ""
            },
            "type": "mesh3d"
           }
          ],
          "parcoords": [
           {
            "line": {
             "colorbar": {
              "outlinewidth": 0,
              "ticks": ""
             }
            },
            "type": "parcoords"
           }
          ],
          "pie": [
           {
            "automargin": true,
            "type": "pie"
           }
          ],
          "scatter": [
           {
            "marker": {
             "colorbar": {
              "outlinewidth": 0,
              "ticks": ""
             }
            },
            "type": "scatter"
           }
          ],
          "scatter3d": [
           {
            "line": {
             "colorbar": {
              "outlinewidth": 0,
              "ticks": ""
             }
            },
            "marker": {
             "colorbar": {
              "outlinewidth": 0,
              "ticks": ""
             }
            },
            "type": "scatter3d"
           }
          ],
          "scattercarpet": [
           {
            "marker": {
             "colorbar": {
              "outlinewidth": 0,
              "ticks": ""
             }
            },
            "type": "scattercarpet"
           }
          ],
          "scattergeo": [
           {
            "marker": {
             "colorbar": {
              "outlinewidth": 0,
              "ticks": ""
             }
            },
            "type": "scattergeo"
           }
          ],
          "scattergl": [
           {
            "marker": {
             "colorbar": {
              "outlinewidth": 0,
              "ticks": ""
             }
            },
            "type": "scattergl"
           }
          ],
          "scattermapbox": [
           {
            "marker": {
             "colorbar": {
              "outlinewidth": 0,
              "ticks": ""
             }
            },
            "type": "scattermapbox"
           }
          ],
          "scatterpolar": [
           {
            "marker": {
             "colorbar": {
              "outlinewidth": 0,
              "ticks": ""
             }
            },
            "type": "scatterpolar"
           }
          ],
          "scatterpolargl": [
           {
            "marker": {
             "colorbar": {
              "outlinewidth": 0,
              "ticks": ""
             }
            },
            "type": "scatterpolargl"
           }
          ],
          "scatterternary": [
           {
            "marker": {
             "colorbar": {
              "outlinewidth": 0,
              "ticks": ""
             }
            },
            "type": "scatterternary"
           }
          ],
          "surface": [
           {
            "colorbar": {
             "outlinewidth": 0,
             "ticks": ""
            },
            "colorscale": [
             [
              0,
              "#0d0887"
             ],
             [
              0.1111111111111111,
              "#46039f"
             ],
             [
              0.2222222222222222,
              "#7201a8"
             ],
             [
              0.3333333333333333,
              "#9c179e"
             ],
             [
              0.4444444444444444,
              "#bd3786"
             ],
             [
              0.5555555555555556,
              "#d8576b"
             ],
             [
              0.6666666666666666,
              "#ed7953"
             ],
             [
              0.7777777777777778,
              "#fb9f3a"
             ],
             [
              0.8888888888888888,
              "#fdca26"
             ],
             [
              1,
              "#f0f921"
             ]
            ],
            "type": "surface"
           }
          ],
          "table": [
           {
            "cells": {
             "fill": {
              "color": "#EBF0F8"
             },
             "line": {
              "color": "white"
             }
            },
            "header": {
             "fill": {
              "color": "#C8D4E3"
             },
             "line": {
              "color": "white"
             }
            },
            "type": "table"
           }
          ]
         },
         "layout": {
          "annotationdefaults": {
           "arrowcolor": "#2a3f5f",
           "arrowhead": 0,
           "arrowwidth": 1
          },
          "autotypenumbers": "strict",
          "coloraxis": {
           "colorbar": {
            "outlinewidth": 0,
            "ticks": ""
           }
          },
          "colorscale": {
           "diverging": [
            [
             0,
             "#8e0152"
            ],
            [
             0.1,
             "#c51b7d"
            ],
            [
             0.2,
             "#de77ae"
            ],
            [
             0.3,
             "#f1b6da"
            ],
            [
             0.4,
             "#fde0ef"
            ],
            [
             0.5,
             "#f7f7f7"
            ],
            [
             0.6,
             "#e6f5d0"
            ],
            [
             0.7,
             "#b8e186"
            ],
            [
             0.8,
             "#7fbc41"
            ],
            [
             0.9,
             "#4d9221"
            ],
            [
             1,
             "#276419"
            ]
           ],
           "sequential": [
            [
             0,
             "#0d0887"
            ],
            [
             0.1111111111111111,
             "#46039f"
            ],
            [
             0.2222222222222222,
             "#7201a8"
            ],
            [
             0.3333333333333333,
             "#9c179e"
            ],
            [
             0.4444444444444444,
             "#bd3786"
            ],
            [
             0.5555555555555556,
             "#d8576b"
            ],
            [
             0.6666666666666666,
             "#ed7953"
            ],
            [
             0.7777777777777778,
             "#fb9f3a"
            ],
            [
             0.8888888888888888,
             "#fdca26"
            ],
            [
             1,
             "#f0f921"
            ]
           ],
           "sequentialminus": [
            [
             0,
             "#0d0887"
            ],
            [
             0.1111111111111111,
             "#46039f"
            ],
            [
             0.2222222222222222,
             "#7201a8"
            ],
            [
             0.3333333333333333,
             "#9c179e"
            ],
            [
             0.4444444444444444,
             "#bd3786"
            ],
            [
             0.5555555555555556,
             "#d8576b"
            ],
            [
             0.6666666666666666,
             "#ed7953"
            ],
            [
             0.7777777777777778,
             "#fb9f3a"
            ],
            [
             0.8888888888888888,
             "#fdca26"
            ],
            [
             1,
             "#f0f921"
            ]
           ]
          },
          "colorway": [
           "#636efa",
           "#EF553B",
           "#00cc96",
           "#ab63fa",
           "#FFA15A",
           "#19d3f3",
           "#FF6692",
           "#B6E880",
           "#FF97FF",
           "#FECB52"
          ],
          "font": {
           "color": "#2a3f5f"
          },
          "geo": {
           "bgcolor": "white",
           "lakecolor": "white",
           "landcolor": "#E5ECF6",
           "showlakes": true,
           "showland": true,
           "subunitcolor": "white"
          },
          "hoverlabel": {
           "align": "left"
          },
          "hovermode": "closest",
          "mapbox": {
           "style": "light"
          },
          "paper_bgcolor": "white",
          "plot_bgcolor": "#E5ECF6",
          "polar": {
           "angularaxis": {
            "gridcolor": "white",
            "linecolor": "white",
            "ticks": ""
           },
           "bgcolor": "#E5ECF6",
           "radialaxis": {
            "gridcolor": "white",
            "linecolor": "white",
            "ticks": ""
           }
          },
          "scene": {
           "xaxis": {
            "backgroundcolor": "#E5ECF6",
            "gridcolor": "white",
            "gridwidth": 2,
            "linecolor": "white",
            "showbackground": true,
            "ticks": "",
            "zerolinecolor": "white"
           },
           "yaxis": {
            "backgroundcolor": "#E5ECF6",
            "gridcolor": "white",
            "gridwidth": 2,
            "linecolor": "white",
            "showbackground": true,
            "ticks": "",
            "zerolinecolor": "white"
           },
           "zaxis": {
            "backgroundcolor": "#E5ECF6",
            "gridcolor": "white",
            "gridwidth": 2,
            "linecolor": "white",
            "showbackground": true,
            "ticks": "",
            "zerolinecolor": "white"
           }
          },
          "shapedefaults": {
           "line": {
            "color": "#2a3f5f"
           }
          },
          "ternary": {
           "aaxis": {
            "gridcolor": "white",
            "linecolor": "white",
            "ticks": ""
           },
           "baxis": {
            "gridcolor": "white",
            "linecolor": "white",
            "ticks": ""
           },
           "bgcolor": "#E5ECF6",
           "caxis": {
            "gridcolor": "white",
            "linecolor": "white",
            "ticks": ""
           }
          },
          "title": {
           "x": 0.05
          },
          "xaxis": {
           "automargin": true,
           "gridcolor": "white",
           "linecolor": "white",
           "ticks": "",
           "title": {
            "standoff": 15
           },
           "zerolinecolor": "white",
           "zerolinewidth": 2
          },
          "yaxis": {
           "automargin": true,
           "gridcolor": "white",
           "linecolor": "white",
           "ticks": "",
           "title": {
            "standoff": 15
           },
           "zerolinecolor": "white",
           "zerolinewidth": 2
          }
         }
        }
       }
      }
     },
     "metadata": {},
     "output_type": "display_data"
    }
   ],
   "source": [
    "# Read and filter your dataframe\n",
    "nypdff = nypdf[['OFNS_DESC', 'Latitude', 'Longitude']]\n",
    "print(nypdff['OFNS_DESC'].unique())\n",
    "nypdff = nypdff[nypdff['OFNS_DESC'].isin(['ASSAULT 3 & RELATED OFFENSES'])]\n",
    "nypdff.dropna(subset=['Latitude', 'Longitude'], inplace=True)\n",
    "print(nypdff.shape)\n",
    "\n",
    "# Build an abstract canvas representing the space in which to plot data\n",
    "xcvs = ds.Canvas(plot_width=1000, plot_height=1000)\n",
    "\n",
    "# project the longitude and latitude onto the canvas and\n",
    "# map the data to pixels as points\n",
    "aggss = xcvs.points(nypdff, x='Longitude', y='Latitude')\n",
    "\n",
    "# aggs is an xarray object, see http://xarray.pydata.org/en/stable/ for more details\n",
    "coord_lat, coord_lon = aggss.coords['Latitude'].values, aggss.coords['Longitude'].values\n",
    "\n",
    "# Set the corners of the image that need to be passed to the mapbox\n",
    "coordinate = [[coord_lon[0], coord_lat[0]],\n",
    "               [coord_lon[-1], coord_lat[0]],\n",
    "               [coord_lon[-1], coord_lat[-1]],\n",
    "               [coord_lon[0], coord_lat[-1]]]\n",
    "\n",
    "\n",
    "# Set the image color, and the legend (how) types\n",
    "# linear (how=linear), logarithmic (how=log), percentile (how=eq_hist)\n",
    "imgs = tf.shade(aggss, cmap=fire, how='eq_hist', alpha=255)[::-1].to_pil()\n",
    "\n",
    "# Create a quick mapbox figure with plotly\n",
    "figs = px.scatter_mapbox(nypdff[:1], lat='Latitude', lon='Longitude', zoom=10)\n",
    "\n",
    "# Add the datashader image as a mapbox layer image\n",
    "figs.update_layout(mapbox_style=\"carto-darkmatter\",\n",
    "                  mapbox_layers=[\n",
    "                      {\n",
    "                    \"sourcetype\": \"image\",\n",
    "                    \"source\": imgs,\n",
    "                    \"coordinates\": coordinate\n",
    "                      }\n",
    "                  ]\n",
    ")\n",
    "figs.show()\n"
   ]
  }
 ],
 "metadata": {
  "interpreter": {
   "hash": "b3ba2566441a7c06988d0923437866b63cedc61552a5af99d1f4fb67d367b25f"
  },
  "kernelspec": {
   "display_name": "Python 3.8.8 64-bit ('base': conda)",
   "language": "python",
   "name": "python3"
  },
  "language_info": {
   "codemirror_mode": {
    "name": "ipython",
    "version": 3
   },
   "file_extension": ".py",
   "mimetype": "text/x-python",
   "name": "python",
   "nbconvert_exporter": "python",
   "pygments_lexer": "ipython3",
   "version": "3.9.7"
  },
  "orig_nbformat": 4
 },
 "nbformat": 4,
 "nbformat_minor": 2
}
